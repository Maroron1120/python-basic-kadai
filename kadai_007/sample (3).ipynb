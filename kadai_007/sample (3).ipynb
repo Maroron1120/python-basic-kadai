{
  "nbformat": 4,
  "nbformat_minor": 0,
  "metadata": {
    "colab": {
      "provenance": []
    },
    "kernelspec": {
      "name": "python3",
      "display_name": "Python 3"
    },
    "language_info": {
      "name": "python"
    }
  },
  "cells": [
    {
      "cell_type": "markdown",
      "source": [],
      "metadata": {
        "id": "TIq4lWGED2YE"
      }
    },
    {
      "cell_type": "code",
      "source": [
        "array = [\"月曜日は晴れです\" \"火曜日は雨です\" \"水曜日は晴れです\" \"木曜日は晴れです\" \"金曜日は曇りです\" \"土曜日は曇りのち雨です\" \"日曜日は雷雨です\"]\n",
        "\n",
        "dictionary = {\"mom\": \"晴れ\", \"tue\": \"雨\", \"wed\":  \"晴れ\", \"thu\": \"晴れ\", \"fri\": \"曇り\", \"sat\": \"曇りのち雨\", \"sun\": \"雷雨\" }\n",
        "print(dictionary)\n",
        "\n",
        "print(array)\n"
      ],
      "metadata": {
        "colab": {
          "base_uri": "https://localhost:8080/"
        },
        "id": "T-XN6R01DjUN",
        "outputId": "9d1e88bb-2be2-463b-f1b5-0401baedef7c"
      },
      "execution_count": 25,
      "outputs": [
        {
          "output_type": "stream",
          "name": "stdout",
          "text": [
            "{'mom': '晴れ', 'tue': '雨', 'wed': '晴れ', 'thu': '晴れ', 'fri': '曇り', 'sat': '曇りのち雨', 'sun': '雷雨'}\n",
            "['月曜日は晴れです火曜日は雨です水曜日は晴れです木曜日は晴れです金曜日は曇りです土曜日は曇りのち雨です日曜日は雷雨です']\n"
          ]
        }
      ]
    },
    {
      "cell_type": "code",
      "source": [
        "array = [\"月曜日は晴れです\" , \"火曜日は雨です\" , \"水曜日は晴れです\" , \"木曜日は晴れです\" , \"金曜日は曇りです\" , \"土曜日は曇りのち雨です\" , \"日曜日は雷雨です\"]\n",
        "print(array[2])\n",
        "\n",
        "dictionary = {\"mom\": \"晴れ\", \"tue\": \"雨\", \"wed\":  \"晴れ\", \"thu\": \"晴れ\", \"fri\": \"曇り\", \"sat\": \"曇りのち雨\", \"sun\": \"雷雨\" }\n",
        "print(dictionary[\"wed\"])"
      ],
      "metadata": {
        "colab": {
          "base_uri": "https://localhost:8080/"
        },
        "id": "gX2XfvBHIFGf",
        "outputId": "9ca5d6cf-77db-40bb-a480-55840f99024e"
      },
      "execution_count": 33,
      "outputs": [
        {
          "output_type": "stream",
          "name": "stdout",
          "text": [
            "水曜日は晴れです\n",
            "晴れ\n"
          ]
        }
      ]
    }
  ]
}