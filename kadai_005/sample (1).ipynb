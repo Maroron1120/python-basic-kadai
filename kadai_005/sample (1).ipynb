{
  "nbformat": 4,
  "nbformat_minor": 0,
  "metadata": {
    "colab": {
      "provenance": []
    },
    "kernelspec": {
      "name": "python3",
      "display_name": "Python 3"
    },
    "language_info": {
      "name": "python"
    }
  },
  "cells": [
    {
      "cell_type": "code",
      "source": [
        "number1 = (10 + 20)\n",
        "number2 =(5 / 2)\n",
        "number3 = (number1 * number2 )\n",
        "user_name = \"㎠\"\n",
        "print(str(number3) + user_name)"
      ],
      "metadata": {
        "id": "wZqQV3Ou6CVD",
        "colab": {
          "base_uri": "https://localhost:8080/"
        },
        "outputId": "29e97d48-b024-4bff-a7a9-eb4bf1a0498d"
      },
      "execution_count": 16,
      "outputs": [
        {
          "output_type": "stream",
          "name": "stdout",
          "text": [
            "75.0㎠\n"
          ]
        }
      ]
    }
  ]
}