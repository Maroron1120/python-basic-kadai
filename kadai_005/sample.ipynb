{
  "nbformat": 4,
  "nbformat_minor": 0,
  "metadata": {
    "colab": {
      "provenance": []
    },
    "kernelspec": {
      "name": "python3",
      "display_name": "Python 3"
    },
    "language_info": {
      "name": "python"
    }
  },
  "cells": [
    {
      "cell_type": "code",
      "source": [
        "number1 = (10 + 20)\n",
        "number2 =(5 / 2)\n",
        "number3 = (number1 * number2 )\n",
        "user_name = \"cm2\"\n",
        "print(str(number3) + user_name)"
      ],
      "metadata": {
        "id": "wZqQV3Ou6CVD",
        "colab": {
          "base_uri": "https://localhost:8080/"
        },
        "outputId": "cf0b3ba3-e2e4-4882-de14-ea7f1ecb283a"
      },
      "execution_count": 15,
      "outputs": [
        {
          "output_type": "stream",
          "name": "stdout",
          "text": [
            "75.0cm2\n"
          ]
        }
      ]
    }
  ]
}