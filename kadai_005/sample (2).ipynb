{
  "nbformat": 4,
  "nbformat_minor": 0,
  "metadata": {
    "colab": {
      "provenance": []
    },
    "kernelspec": {
      "name": "python3",
      "display_name": "Python 3"
    },
    "language_info": {
      "name": "python"
    }
  },
  "cells": [
    {
      "cell_type": "code",
      "source": [
        "number1 = (10 + 20)\n",
        "number2 =(5 / 2)\n",
        "number3 = (number1 * number2 )\n",
        "user_name = \"cm²\"\n",
        "print(str(number3) + user_name)"
      ],
      "metadata": {
        "id": "wZqQV3Ou6CVD",
        "colab": {
          "base_uri": "https://localhost:8080/"
        },
        "outputId": "3d7f7b5d-1342-43a0-f4ab-aedc9e40c3b9"
      },
      "execution_count": 17,
      "outputs": [
        {
          "output_type": "stream",
          "name": "stdout",
          "text": [
            "75.0cm²\n"
          ]
        }
      ]
    }
  ]
}